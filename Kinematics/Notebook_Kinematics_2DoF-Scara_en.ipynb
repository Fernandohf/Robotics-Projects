{
 "cells": [
  {
   "cell_type": "markdown",
   "metadata": {},
   "source": [
    "# Problem:\n",
    "Solve the kinematics of the target point in a `Scara` arm of 2 degree of freedom as show in the figure below.\n",
    "\n",
    "![Scara arm - 2 DoF](https://raw.githubusercontent.com/Fernandohf/Robotics-Projects/master/media/scara.png)"
   ]
  },
  {
   "cell_type": "markdown",
   "metadata": {},
   "source": [
    "## Reference Frames\n",
    "\n",
    "The following reference frames where defined:\n",
    "- `B0` is colinear with the base circle at arm heigh, simplifying the problem in 2D\n",
    "- `B1` at the first joint, with relative rotation regarding `B0.z` defined by `theta_1`.\n",
    "- `B2` at the second joint, with relative rotation regarding `B1.z` defined by `theta_2`.\n",
    "  \n",
    "Additionally, the first and second arm lengths were defined as `l_1`, `l_2`, respectively.\n",
    "\n",
    "This image shows how the problems simplifies to 2D\n",
    "\n",
    "![\"Scara 2d simplification\"](https://github.com/Fernandohf/Robotics-Projects/blob/master/media/evince_2021-10-24_09-46-43.png?raw=true)"
   ]
  },
  {
   "cell_type": "code",
   "execution_count": 1,
   "metadata": {},
   "outputs": [],
   "source": [
    "# Funções das Bibliotecas Utilizadas\n",
    "from sympy import symbols\n",
    "from sympy.physics.mechanics import dynamicsymbols\n",
    "from sympy.physics.vector import ReferenceFrame\n",
    "\n",
    "# Variáveis Simbólicas\n",
    "theta_1, theta_2 = dynamicsymbols('theta_1 theta_2')\n",
    "l_1, l_2 = symbols('l_1 l_2', positive = True)\n",
    "\n",
    "# Referenciais \n",
    "B0 = ReferenceFrame('B0')                 # Referencial Parado\n",
    "B1 = ReferenceFrame('B1')     \n",
    "B1.orient(B0, 'Axis', [theta_1, B0.z])    # Referencial móvel: theta_1 em relação a B0.z \n",
    "B2 = ReferenceFrame('B2')\n",
    "B2.orient(B1, 'Axis', [theta_2, B1.z])    # Referencial móvel: theta_2 em relação a B1.z "
   ]
  },
  {
   "cell_type": "markdown",
   "metadata": {},
   "source": [
    "## Rotating Matrices\n",
    "With all the reference frames correctly defined rotating matrices can be easily calculated."
   ]
  },
  {
   "cell_type": "code",
   "execution_count": 2,
   "metadata": {
    "scrolled": true
   },
   "outputs": [
    {
     "data": {
      "text/latex": [
       "\\begin{eqnarray}T_{\\theta_1}&=&\\left[\\begin{matrix}\\cos{\\left(\\theta_{1}{\\left(t \\right)} \\right)} & - \\sin{\\left(\\theta_{1}{\\left(t \\right)} \\right)} & 0\\\\\\sin{\\left(\\theta_{1}{\\left(t \\right)} \\right)} & \\cos{\\left(\\theta_{1}{\\left(t \\right)} \\right)} & 0\\\\0 & 0 & 1\\end{matrix}\\right] T_{\\theta_2}=\\left[\\begin{matrix}\\cos{\\left(\\theta_{2}{\\left(t \\right)} \\right)} & - \\sin{\\left(\\theta_{2}{\\left(t \\right)} \\right)} & 0\\\\\\sin{\\left(\\theta_{2}{\\left(t \\right)} \\right)} & \\cos{\\left(\\theta_{2}{\\left(t \\right)} \\right)} & 0\\\\0 & 0 & 1\\end{matrix}\\right]\\\\T_{\\theta_1, \\theta_2}&=&\\left[\\begin{matrix}\\cos{\\left(\\theta_{1}{\\left(t \\right)} + \\theta_{2}{\\left(t \\right)} \\right)} & - \\sin{\\left(\\theta_{1}{\\left(t \\right)} + \\theta_{2}{\\left(t \\right)} \\right)} & 0\\\\\\sin{\\left(\\theta_{1}{\\left(t \\right)} + \\theta_{2}{\\left(t \\right)} \\right)} & \\cos{\\left(\\theta_{1}{\\left(t \\right)} + \\theta_{2}{\\left(t \\right)} \\right)} & 0\\\\0 & 0 & 1\\end{matrix}\\right]\\end{eqnarray}"
      ],
      "text/plain": [
       "<IPython.core.display.Latex object>"
      ]
     },
     "execution_count": 2,
     "metadata": {},
     "output_type": "execute_result"
    }
   ],
   "source": [
    "# Matrizes de Rotação\n",
    "T_B0B1 = B0.dcm(B1)    # Matriz de rotação de B1 para B0\n",
    "T_B1B2 = B1.dcm(B2)    # Matriz de rotação de B2 para B1\n",
    "\n",
    "T_B0B2 = (B0.dcm(B2)).simplify()     # Matriz de rotação de B0 para B3\n",
    "\n",
    "# Resultados em LaTeX\n",
    "from IPython.display import Latex\n",
    "from sympy import latex\n",
    "\n",
    "Latex(\"\\\\begin{eqnarray}\" +\n",
    "     \"T_{\\\\theta_1}&=\" + \"&\" +str(latex(T_B0B1)) + \" T_{\\\\theta_2}=\" + str(latex(T_B1B2)) + \n",
    "      \"\\\\\\\\T_{\\\\theta_1, \\\\theta_2}&=\" + \"&\" + str(latex(T_B0B2))    + \"\\\\end{eqnarray}\")"
   ]
  },
  {
   "cell_type": "markdown",
   "metadata": {},
   "source": [
    "## Points Relative Positions\n",
    "\n",
    "Now, we can describe points $A$, $B$ and $C$ regarding the reference frames defined previously. \n",
    "- Point $A$ coincides with origin, therefore, $\\vec{r_{OA}}=\\vec{0}$\n",
    "- Pointo $B$ can be expressed by reference frame `B1`, which $\\vec{r_{AB}}={l_1 \\vec{{i}_{B1}}}$\n",
    "- Point $C$ is described by equation $\\vec{r_{BC}}={l_2 \\vec{{i}_{B2}}}$\n",
    "\n",
    "Which $\\vec{{i}_{B2}}$ and $\\vec{{i}_{B3}}$ are vectors in direction $x$ of reference frame `B1` and `B2`, respectively. Following, it is noticeable how simply these vectors are defined using ```sympy```. The main advantage is that we do not have to worry about which frame the vectors are being defined, because all reference frames relations were already specified."
   ]
  },
  {
   "cell_type": "code",
   "execution_count": 3,
   "metadata": {},
   "outputs": [
    {
     "data": {
      "text/latex": [
       "\\begin{eqnarray}R_{AB}&=&l_{1} \\cos{\\left(\\theta_{1}{\\left(t \\right)} \\right)}\\mathbf{\\hat{b0}_x} + l_{1} \\sin{\\left(\\theta_{1}{\\left(t \\right)} \\right)}\\mathbf{\\hat{b0}_y}\\\\R_{AB}&=&\\left[\\begin{matrix}l_{1} \\cos{\\left(\\theta_{1}{\\left(t \\right)} \\right)}\\\\l_{1} \\sin{\\left(\\theta_{1}{\\left(t \\right)} \\right)}\\\\0\\end{matrix}\\right]\\end{eqnarray}"
      ],
      "text/plain": [
       "<IPython.core.display.Latex object>"
      ]
     },
     "execution_count": 3,
     "metadata": {},
     "output_type": "execute_result"
    }
   ],
   "source": [
    "from sympy.physics.vector import Vector\n",
    "\n",
    "# Vetores Posição entre os Pontos\n",
    "r_OA = Vector(0)      # Vetor Nulo\n",
    "r_AB = l_1 * B1.x     # Vetor que liga os pontos A e B expresso no referencial móvel B1\n",
    "r_BC = l_2 * B2.x     # Vetor que liga os pontos B e C expresso no referencial móvel B2\n",
    "\n",
    "R_AB = r_AB.express(B0) # Vetor que liga os pontos A e B expresso no referencial fixo B0\n",
    "R_BC = r_BC.express(B0) # Vetor que liga os pontos B e C expresso no referencial fixo B0\n",
    "\n",
    "# Resultado em LaTeX na Forma Vetorial ou Vetor Coluna\n",
    "Latex(\"\\\\begin{eqnarray}\" +\n",
    "     \"R_{AB}&=\" + \"&\" +str(latex(R_AB)) + \"\\\\\\\\\" + \n",
    "     \"R_{AB}&=\" + \"&\" +str(latex(R_AB.to_matrix(B0))) +\n",
    "     \"\\\\end{eqnarray}\")"
   ]
  },
  {
   "cell_type": "markdown",
   "metadata": {},
   "source": [
    "## Resulting matrices\n",
    "\n",
    "Now, it is possible to solve kinematics of target point $C$ regarding reference frame `B0`. For that, position, velocity and acceleration vector needs to be solved for each point, $A$, $B$ and $C$. Additionally, some simplification is performed using ```trigsimp``` function."
   ]
  },
  {
   "cell_type": "code",
   "execution_count": 4,
   "metadata": {},
   "outputs": [
    {
     "data": {
      "text/latex": [
       "\\begin{align}r_{A}&=\\left[\\begin{matrix}0\\\\0\\\\0\\end{matrix}\\right]&v_{A}&=\\left[\\begin{matrix}0\\\\0\\\\0\\end{matrix}\\right]&a_{A}&= \\left[\\begin{matrix}0\\\\0\\\\0\\end{matrix}\\right]\\\\r_{B}&=\\left[\\begin{matrix}l_{1} \\cos{\\left(\\theta_{1} \\right)}\\\\l_{1} \\sin{\\left(\\theta_{1} \\right)}\\\\0\\end{matrix}\\right]&v_{B}&=\\left[\\begin{matrix}- l_{1} \\sin{\\left(\\theta_{1} \\right)} \\dot{\\theta}_{1}\\\\l_{1} \\cos{\\left(\\theta_{1} \\right)} \\dot{\\theta}_{1}\\\\0\\end{matrix}\\right]&a_{B}&=\\left[\\begin{matrix}- l_{1} \\left(\\sin{\\left(\\theta_{1} \\right)} \\ddot{\\theta}_{1} + \\cos{\\left(\\theta_{1} \\right)} \\dot{\\theta}_{1}^{2}\\right)\\\\l_{1} \\left(- \\sin{\\left(\\theta_{1} \\right)} \\dot{\\theta}_{1}^{2} + \\cos{\\left(\\theta_{1} \\right)} \\ddot{\\theta}_{1}\\right)\\\\0\\end{matrix}\\right]\\\\\\end{align}"
      ],
      "text/plain": [
       "<IPython.core.display.Latex object>"
      ]
     },
     "execution_count": 4,
     "metadata": {},
     "output_type": "execute_result"
    }
   ],
   "source": [
    "from sympy.physics.vector import time_derivative, vlatex\n",
    "from sympy import trigsimp\n",
    "\n",
    "# Cinemática do ponto A em relação ao referencial B0\n",
    "r_A  = r_OA.express(B0)\n",
    "v_A = time_derivative(r_A, B0)\n",
    "a_A = time_derivative(v_A, B0)\n",
    "\n",
    "# Cinemática do ponto B em relação ao referencial B0\n",
    "r_B  = r_A.express(B0) + r_AB.express(B0)\n",
    "v_B = time_derivative(r_B, B0)\n",
    "a_B = time_derivative(v_B, B0)\n",
    "\n",
    "# Cinemática do ponto C em relação ao referencial B0\n",
    "r_C  = r_B.express(B0) + r_BC.express(B0)\n",
    "v_C = (time_derivative(r_C, B0))\n",
    "a_C = (time_derivative(v_C, B0))\n",
    "\n",
    "# Simplificação dos Resultados\n",
    "r_A = (r_A.to_matrix(B0)).applyfunc(trigsimp)\n",
    "v_A = (v_A.to_matrix(B0)).applyfunc(trigsimp)\n",
    "a_A = (a_A.to_matrix(B0)).applyfunc(trigsimp)\n",
    "r_B = (r_B.to_matrix(B0)).applyfunc(trigsimp)\n",
    "v_B = (v_B.to_matrix(B0)).applyfunc(trigsimp)\n",
    "a_B = (a_B.to_matrix(B0)).applyfunc(trigsimp)\n",
    "r_C = (r_C.to_matrix(B0)).applyfunc(trigsimp)\n",
    "v_C = (v_C.to_matrix(B0)).applyfunc(trigsimp)\n",
    "a_C = (a_C.to_matrix(B0)).applyfunc(trigsimp)\n",
    "\n",
    "# Resultados em LaTeX na forma de Vetores Coluna dos pontos A e B\n",
    "Latex(\"\\\\begin{align}\"\n",
    "     \"r_{A}&=\" + str(vlatex(r_A)) + \"&v_{A}&=\" + str(vlatex(v_A)) + \"&a_{A}&= \" + str(vlatex(a_A)) + \"\\\\\" + \"\\\\\"\n",
    "     \"r_{B}&=\" + str(vlatex(r_B)) + \"&v_{B}&=\" + str(vlatex(v_B)) + \"&a_{B}&=\" + str(vlatex(a_B)) + \"\\\\\" + \"\\\\\"\n",
    "      \"\\\\end{align}\")"
   ]
  },
  {
   "cell_type": "code",
   "execution_count": 5,
   "metadata": {
    "scrolled": false
   },
   "outputs": [
    {
     "data": {
      "text/latex": [
       "\\begin{align}\r_{C}=&\\left[\\begin{matrix}l_{1} \\cos{\\left(\\theta_{1} \\right)} + l_{2} \\cos{\\left(\\theta_{1} + \\theta_{2} \\right)}\\\\l_{1} \\sin{\\left(\\theta_{1} \\right)} + l_{2} \\sin{\\left(\\theta_{1} + \\theta_{2} \\right)}\\\\0\\end{matrix}\\right]\\\\\\\\v_{C}=&\\left[\\begin{matrix}- l_{1} \\sin{\\left(\\theta_{1} \\right)} \\dot{\\theta}_{1} - l_{2} \\left(\\dot{\\theta}_{1} + \\dot{\\theta}_{2}\\right) \\sin{\\left(\\theta_{1} + \\theta_{2} \\right)}\\\\l_{1} \\cos{\\left(\\theta_{1} \\right)} \\dot{\\theta}_{1} + l_{2} \\left(\\dot{\\theta}_{1} + \\dot{\\theta}_{2}\\right) \\cos{\\left(\\theta_{1} + \\theta_{2} \\right)}\\\\0\\end{matrix}\\right]\\\\\\\\a_{C}=& \\left[\\begin{matrix}- l_{1} \\sin{\\left(\\theta_{1} \\right)} \\ddot{\\theta}_{1} - l_{1} \\cos{\\left(\\theta_{1} \\right)} \\dot{\\theta}_{1}^{2} - l_{2} \\sin{\\left(\\theta_{1} + \\theta_{2} \\right)} \\ddot{\\theta}_{1} - l_{2} \\sin{\\left(\\theta_{1} + \\theta_{2} \\right)} \\ddot{\\theta}_{2} - l_{2} \\cos{\\left(\\theta_{1} + \\theta_{2} \\right)} \\dot{\\theta}_{1}^{2} - 2 l_{2} \\cos{\\left(\\theta_{1} + \\theta_{2} \\right)} \\dot{\\theta}_{1} \\dot{\\theta}_{2} - l_{2} \\cos{\\left(\\theta_{1} + \\theta_{2} \\right)} \\dot{\\theta}_{2}^{2}\\\\- l_{1} \\sin{\\left(\\theta_{1} \\right)} \\dot{\\theta}_{1}^{2} + l_{1} \\cos{\\left(\\theta_{1} \\right)} \\ddot{\\theta}_{1} + l_{2} \\left(- \\sin{\\left(\\theta_{1} + \\theta_{2} \\right)} \\dot{\\theta}_{1}^{2} - 2 \\sin{\\left(\\theta_{1} + \\theta_{2} \\right)} \\dot{\\theta}_{1} \\dot{\\theta}_{2} - \\sin{\\left(\\theta_{1} + \\theta_{2} \\right)} \\dot{\\theta}_{2}^{2} + \\cos{\\left(\\theta_{1} + \\theta_{2} \\right)} \\ddot{\\theta}_{1} + \\cos{\\left(\\theta_{1} + \\theta_{2} \\right)} \\ddot{\\theta}_{2}\\right)\\\\0\\end{matrix}\\right]\\end{align}"
      ],
      "text/plain": [
       "<IPython.core.display.Latex object>"
      ]
     },
     "execution_count": 5,
     "metadata": {},
     "output_type": "execute_result"
    }
   ],
   "source": [
    "# Resultados em LaTeX na forma de Vetores Coluna do ponto C\n",
    "Latex(\"\\\\begin{align}\"\n",
    "     \"\\r_{C}=&\" + str(vlatex(r_C)) + \"\\\\\\\\\" + \"\\\\\\\\\"\n",
    "     \"v_{C}=&\" + str(vlatex(v_C)) + \"\\\\\\\\\" + \"\\\\\\\\\"\n",
    "     \"a_{C}=& \" + str(vlatex(a_C)) + \"\\\\end{align}\")"
   ]
  }
 ],
 "metadata": {
  "interpreter": {
   "hash": "e6d57a11395bfad2acecd537d627437145e822dd4efdea80832e0adb16398436"
  },
  "kernelspec": {
   "display_name": "Python 3.8.5 64-bit ('base': conda)",
   "name": "python3"
  },
  "language_info": {
   "codemirror_mode": {
    "name": "ipython",
    "version": 3
   },
   "file_extension": ".py",
   "mimetype": "text/x-python",
   "name": "python",
   "nbconvert_exporter": "python",
   "pygments_lexer": "ipython3",
   "version": "3.8.5"
  }
 },
 "nbformat": 4,
 "nbformat_minor": 2
}
