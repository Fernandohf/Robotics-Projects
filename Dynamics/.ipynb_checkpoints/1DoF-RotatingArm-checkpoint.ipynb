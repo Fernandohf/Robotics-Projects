{
 "cells": [
  {
   "cell_type": "markdown",
   "metadata": {},
   "source": [
    "# Problema\n",
    "Calcular a dinâmica manipulador simples de 1 grau de liberdade como mostrado abaixo.\n",
    "![Manipulador 1GdL](img/1darm.png)\n",
    "\n",
    "## Variáveis e Referênciais\n",
    "Então, na imagem já temos um referêncial inercial `B0` fixo. Para resolvermos a cinemática vamos definir um referêncial móvel `B1` que se move junto com a coordenada generalizada $\\theta$. Para definir as variáveis simbólicas e esses referenciais em Sympy temos o seguinte código."
   ]
  },
  {
   "cell_type": "code",
   "execution_count": 1,
   "metadata": {},
   "outputs": [],
   "source": [
    "# Funções e Bibliotecas Utilizadas\n",
    "from sympy import symbols, pprint, simplify, Eq, diff\n",
    "from sympy.physics.mechanics import *\n",
    "from sympy.physics.mechanics.functions import inertia\n",
    "init_vprinting()\n",
    "\n",
    "# Variáveis Simbólicas\n",
    "theta = dynamicsymbols('theta')\n",
    "dtheta = dynamicsymbols('theta', 1)\n",
    "omega = dynamicsymbols('omega')\n",
    "domega = dynamicsymbols('omega', 1)\n",
    "tau = symbols('tau')\n",
    "l = symbols('l', positive = True)\n",
    "r = symbols('r', positive = True)\n",
    "m, g = symbols('m g')\n",
    "I_xx, I_yy, I_zz = symbols('I_{xx}, I_{yy}, I_{zz}') \n",
    "\n",
    "# Referenciais \n",
    "B0 = ReferenceFrame('B0')                         # Referencial Inercial\n",
    "B1 = B0.orientnew('B1', 'Axis', [theta, B0.z])    # Referencial móvel: theta_1 em relação a B0.z "
   ]
  },
  {
   "cell_type": "markdown",
   "metadata": {},
   "source": [
    "## Pontos e Corpo Rígido\n",
    " Agora que temos os referênciais definidos, podemos definir a posição dos pontos em relação a esses referenciais. Os pontos são a origem do referencial inercial `O` que é um ponto parado, e o centro de massa do corpo `CM` que está a uma distância *r* na direção do braço. Por dim, definimos o corpo rígido que represena o manipulador através do seu nome, centro de massa, referencial móvel, massa e tensor de inércia."
   ]
  },
  {
   "cell_type": "code",
   "execution_count": 7,
   "metadata": {},
   "outputs": [],
   "source": [
    "# Pontos e Centros de Massa\n",
    "O = Point('O')                                    # Origem\n",
    "O.set_vel(B0, 0)              \n",
    "CM = Point('CM')                                  # Centro de Massa\n",
    "CM.set_pos(O, r * B1.x)\n",
    "CM.v2pt_theory(O, B0, B1)\n",
    "\n",
    "# Corpos Rígidos\n",
    "I = inertia(B1, I_xx, I_yy, I_zz)                 # Tensor de Inércia\n",
    "E = RigidBody('E', CM, B1, m, (I, O))             # Elo 1"
   ]
  },
  {
   "cell_type": "markdown",
   "metadata": {},
   "source": [
    "## Energia Potencial\n",
    "O **Sympy** é capaz de calcular a energia cinética a partir das definições dos referênciais e centro de massa dos corpos, entretanto a energia potencial deve ser definida explicitamente. Além disso, também devemos definir as forças externas generalizadas do modelo."
   ]
  },
  {
   "cell_type": "code",
   "execution_count": 9,
   "metadata": {},
   "outputs": [],
   "source": [
    "# Energia Potencial\n",
    "P = -m * g * B0.y\n",
    "r_CM = (r * B1.x).express(B0)\n",
    "E.potential_energy = r_CM.dot(P)\n",
    "\n",
    "# Forças/Momentos Generalizados\n",
    "FL = [(B1, tau * B0.z)]"
   ]
  },
  {
   "cell_type": "markdown",
   "metadata": {},
   "source": [
    "## Lagrangiano e Equações do Movimento\n",
    "Assim , já podemos encontrar o langrangiano do sistema e consequentemente suas equações do movimento. Isso é feito no sympy através dos métodos mostrados."
   ]
  },
  {
   "cell_type": "code",
   "execution_count": 23,
   "metadata": {},
   "outputs": [
    {
     "data": {
      "image/png": "[encoded data removed]",
      "text/latex": [
       "$$I_{zz} \\ddot{\\theta} - g m r \\operatorname{cos}\\left(\\theta\\right) - \\tau = 0$$"
      ],
      "text/plain": [
       "I_{zz}⋅θ̈ - g⋅m⋅r⋅cos(θ) - τ = 0"
      ]
     },
     "execution_count": 23,
     "metadata": {},
     "output_type": "execute_result"
    }
   ],
   "source": [
    "# Método de Lagrange\n",
    "L = Lagrangian(B0, E)\n",
    "LM = LagrangesMethod(L, [theta], frame=B0, forcelist = FL)\n",
    "L_eq = LM.form_lagranges_equations()\n",
    "L_eq.simplify()\n",
    "Eq(L_eq[0])"
   ]
  },
  {
   "cell_type": "markdown",
   "metadata": {},
   "source": [
    "Adicionalmente, podemos mostrar os resultados já em formato metricial pronto para ser resolvido numericamente. Ou seja, resulta no sistema de EDO de primeira ordem do modelo."
   ]
  },
  {
   "cell_type": "code",
   "execution_count": 13,
   "metadata": {},
   "outputs": [
    {
     "data": {
      "image/png": "[encoded data removed]",
      "text/latex": [
       "$$\\left[\\begin{matrix}\\dot{\\theta}\\\\\\frac{1}{I_{zz}} \\left(g m r \\operatorname{cos}\\left(\\theta\\right) + \\tau\\right)\\end{matrix}\\right]$$"
      ],
      "text/plain": [
       "⎡       θ̇       ⎤\n",
       "⎢                ⎥\n",
       "⎢g⋅m⋅r⋅cos(θ) + τ⎥\n",
       "⎢────────────────⎥\n",
       "⎣     I_{zz}     ⎦"
      ]
     },
     "execution_count": 13,
     "metadata": {},
     "output_type": "execute_result"
    }
   ],
   "source": [
    "rhs = LM.rhs()\n",
    "rhs"
   ]
  }
 ],
 "metadata": {
  "kernelspec": {
   "display_name": "Python 3",
   "language": "python",
   "name": "python3"
  },
  "language_info": {
   "codemirror_mode": {
    "name": "ipython",
    "version": 3
   },
   "file_extension": ".py",
   "mimetype": "text/x-python",
   "name": "python",
   "nbconvert_exporter": "python",
   "pygments_lexer": "ipython3",
   "version": "3.6.5"
  }
 },
 "nbformat": 4,
 "nbformat_minor": 2
}
